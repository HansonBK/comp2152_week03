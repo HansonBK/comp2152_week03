{
 "cells": [
  {
   "cell_type": "code",
   "execution_count": 7,
   "id": "818832a2-1f8f-4bda-b043-4398cfa11d89",
   "metadata": {},
   "outputs": [
    {
     "data": {
      "text/plain": [
       "'\\nAuthor: Hussein Bani Khaled\\nAssignment: #1\\n'"
      ]
     },
     "execution_count": 7,
     "metadata": {},
     "output_type": "execute_result"
    }
   ],
   "source": [
    "\"\"\"\n",
    "Author: Hussein Bani Khaled\n",
    "Assignment: #1\n",
    "\"\"\"\n"
   ]
  },
  {
   "cell_type": "code",
   "execution_count": 8,
   "id": "1cbd7817-c227-47b0-8a2b-b2bc949b5b79",
   "metadata": {},
   "outputs": [],
   "source": [
    "# String data type\n",
    "gym_member = \"Alex Alliton\"\n",
    "\n",
    "# Float data type\n",
    "preferred_weight_kg = 20.5\n",
    "\n",
    "# Integer data type\n",
    "highest_reps = 25\n",
    "\n",
    "# Boolean data type\n",
    "membership_active = True\n"
   ]
  },
  {
   "cell_type": "code",
   "execution_count": 34,
   "id": "960a449b-2adb-4dbf-a8da-3e2d48e67801",
   "metadata": {},
   "outputs": [
    {
     "name": "stdout",
     "output_type": "stream",
     "text": [
      "{'Alex': (30, 45, 20), 'Jamie': (50, 50, 30), 'Taylor': (48, 35, 25)}\n"
     ]
    }
   ],
   "source": [
    "# Dictionary storing workout minutes for each friend (keys: names, values: tuples of minutes)\n",
    "workout_stats = {\n",
    "    \"Alex\": (30, 45, 20),\n",
    "    \"Jamie\": (50, 50, 30),\n",
    "    \"Taylor\": (48, 35, 25)\n",
    "}\n",
    "print(workout_stats)\n"
   ]
  },
  {
   "cell_type": "code",
   "execution_count": 35,
   "id": "d85a0790-48a7-41e9-9974-037ba1532684",
   "metadata": {},
   "outputs": [
    {
     "name": "stdout",
     "output_type": "stream",
     "text": [
      "{'Alex': (30, 45, 20), 'Jamie': (50, 50, 30), 'Taylor': (48, 35, 25), 'Alex_Total': 95, 'Jamie_Total': 130, 'Taylor_Total': 108}\n"
     ]
    }
   ],
   "source": [
    "# Create a dictionary to store total workout minutes\n",
    "total_minutes_dict = {}\n",
    "\n",
    "for friend, minutes in workout_stats.items():\n",
    "    total_minutes_dict[f\"{friend}_Total\"] = sum(minutes)\n",
    "\n",
    "# Update the workout_stats dictionary with total minutes\n",
    "workout_stats.update(total_minutes_dict)\n",
    "print(workout_stats)\n",
    "\n"
   ]
  },
  {
   "cell_type": "code",
   "execution_count": 36,
   "id": "0cb0f377-d909-4f6d-8edd-f8aada1586f7",
   "metadata": {},
   "outputs": [
    {
     "name": "stdout",
     "output_type": "stream",
     "text": [
      "Workout List: [[30, 45, 20], [50, 50, 30], [48, 35, 25]]\n"
     ]
    }
   ],
   "source": [
    "# Extract workout minutes from dictionary values and store them in a nested list\n",
    "workout_list = [list(minutes) for minutes in workout_stats.values() if isinstance(minutes, tuple)]\n",
    "print(\"Workout List:\", workout_list)\n"
   ]
  },
  {
   "cell_type": "code",
   "execution_count": 37,
   "id": "5e9ec86f-9e2b-43f2-974b-73107894b61b",
   "metadata": {},
   "outputs": [
    {
     "name": "stdout",
     "output_type": "stream",
     "text": [
      "Yoga and Running Minutes: [[30, 45], [50, 50], [48, 35]]\n",
      "Weightlifting Minutes for Last Two Friends: [30, 25]\n"
     ]
    }
   ],
   "source": [
    "# Extract and print yoga and running minutes for all friends\n",
    "yoga_running_minutes = [row[:2] for row in workout_list]\n",
    "print(\"Yoga and Running Minutes:\", yoga_running_minutes)\n",
    "\n",
    "# Extract and print weightlifting minutes for the last two friends\n",
    "weightlifting_minutes = [row[2] for row in workout_list[-2:]]\n",
    "print(\"Weightlifting Minutes for Last Two Friends:\", weightlifting_minutes)\n"
   ]
  },
  {
   "cell_type": "code",
   "execution_count": 38,
   "id": "9ce06364-12db-412f-9ff6-1e9cc4f40206",
   "metadata": {},
   "outputs": [
    {
     "name": "stdout",
     "output_type": "stream",
     "text": [
      "Great job staying active, Jamie!\n"
     ]
    }
   ],
   "source": [
    "# Check if any friend's total workout minutes are greater than or equal to 120\n",
    "for friend, total in workout_stats.items():\n",
    "    if \"_Total\" in friend and isinstance(total, int) and total >= 120:\n",
    "        print(f\"Great job staying active, {friend.split('_')[0]}!\")\n",
    "\n"
   ]
  },
  {
   "cell_type": "code",
   "execution_count": 39,
   "id": "20a3e761-a66e-4add-890e-2c489eba31e4",
   "metadata": {},
   "outputs": [
    {
     "name": "stdin",
     "output_type": "stream",
     "text": [
      "Enter a friend's name:  Jamie\n"
     ]
    },
    {
     "name": "stdout",
     "output_type": "stream",
     "text": [
      "Jamie's workout minutes: (50, 50, 30)\n",
      "Total workout minutes: 130\n"
     ]
    }
   ],
   "source": [
    "# Allow user to input a friend's name and check their workout data\n",
    "friend_name = input(\"Enter a friend's name: \")\n",
    "\n",
    "if friend_name in workout_stats:\n",
    "    print(f\"{friend_name}'s workout minutes: {workout_stats[friend_name]}\")\n",
    "    total_key = f\"{friend_name}_Total\"\n",
    "    \n",
    "    if total_key in workout_stats:  # Check if total exists\n",
    "        print(f\"Total workout minutes: {workout_stats[total_key]}\")\n",
    "else:\n",
    "    print(f\"Friend {friend_name} not found in the records.\")\n",
    "\n",
    "\n"
   ]
  },
  {
   "cell_type": "code",
   "execution_count": null,
   "id": "401b5876-74fd-4c00-bb6d-1d6c449729c9",
   "metadata": {},
   "outputs": [],
   "source": [
    "# Create a dictionary with only total workout minutes\n",
    "totals = {friend: total for friend, total in workout_stats.items() if \"_Total\" in friend}\n",
    "\n",
    "# Find the friend with the highest and lowest total workout minutes\n",
    "max_friend = max(totals, key=totals.get)\n",
    "min_friend = min(totals, key=totals.get)\n",
    "\n",
    "print(f\"Friend with the highest total workout minutes: {max_friend} with {totals[max_friend]} minutes\")\n",
    "print(f\"Friend with the lowest total workout minutes: {min_friend} with {totals[min_friend]} minutes\")\n"
   ]
  },
  {
   "cell_type": "code",
   "execution_count": null,
   "id": "1fff342d-25c9-43f5-b863-2069d12c5d30",
   "metadata": {},
   "outputs": [],
   "source": []
  }
 ],
 "metadata": {
  "kernelspec": {
   "display_name": "Python 3 (ipykernel)",
   "language": "python",
   "name": "python3"
  },
  "language_info": {
   "codemirror_mode": {
    "name": "ipython",
    "version": 3
   },
   "file_extension": ".py",
   "mimetype": "text/x-python",
   "name": "python",
   "nbconvert_exporter": "python",
   "pygments_lexer": "ipython3",
   "version": "3.9.21"
  }
 },
 "nbformat": 4,
 "nbformat_minor": 5
}
